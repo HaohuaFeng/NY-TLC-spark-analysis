{
 "cells": [
  {
   "cell_type": "code",
   "execution_count": 1,
   "metadata": {},
   "outputs": [],
   "source": [
    "from pyspark.sql import SparkSession\n",
    "from pyspark.sql.functions import col"
   ]
  },
  {
   "cell_type": "code",
   "execution_count": 2,
   "metadata": {},
   "outputs": [],
   "source": [
    "spark = SparkSession.builder.appName(\"NYC Yellow Taxi Analysis\").getOrCreate()"
   ]
  },
  {
   "cell_type": "markdown",
   "metadata": {},
   "source": [
    "# Read files to data"
   ]
  },
  {
   "cell_type": "code",
   "execution_count": 3,
   "metadata": {},
   "outputs": [],
   "source": [
    "# Load the dataset in .parquet format\n",
    "import os\n",
    "\n",
    "path = 'raw_data'\n",
    "parquet_file_name = os.listdir(path)\n",
    "\n",
    "raw_data = []\n",
    "\n",
    "for file_name in parquet_file_name:\n",
    "    parquet_path = os.path.join(path, file_name)\n",
    "    raw_data.append(spark.read.parquet(parquet_path))\n",
    "\n",
    "zone_table_path = 'taxi_zone_lookup.csv'\n",
    "zone_df = spark.read.option('header', 'true').csv(zone_table_path)"
   ]
  },
  {
   "cell_type": "code",
   "execution_count": 4,
   "metadata": {},
   "outputs": [],
   "source": [
    "# change the datatype for January data to make sure the consistent\n",
    "from pyspark.sql.types import IntegerType, DoubleType, LongType\n",
    "\n",
    "raw_data[0] = raw_data[0].withColumn('VendorID', raw_data[0]['VendorID'].cast(IntegerType(IF )))\\\n",
    "                        .withColumn('passenger_count', raw_data[0]['passenger_count'].cast(LongType()))\\\n",
    "                        .withColumn('RatecodeID', raw_data[0]['RatecodeID'].cast(LongType()))\\\n",
    "                        .withColumn('PULocationID', raw_data[0]['PULocationID'].cast(IntegerType()))\\\n",
    "                        .withColumn('DOLocationID', raw_data[0]['DOLocationID'].cast(IntegerType()))\n",
    "\n",
    "# change the zone to integer\n",
    "zone_df = zone_df.withColumn('LocationID', zone_df['LocationID'].cast(IntegerType()))"
   ]
  },
  {
   "cell_type": "code",
   "execution_count": 5,
   "metadata": {},
   "outputs": [
    {
     "name": "stdout",
     "output_type": "stream",
     "text": [
      "root\n",
      " |-- VendorID: integer (nullable = true)\n",
      " |-- tpep_pickup_datetime: timestamp_ntz (nullable = true)\n",
      " |-- tpep_dropoff_datetime: timestamp_ntz (nullable = true)\n",
      " |-- passenger_count: long (nullable = true)\n",
      " |-- trip_distance: double (nullable = true)\n",
      " |-- RatecodeID: long (nullable = true)\n",
      " |-- store_and_fwd_flag: string (nullable = true)\n",
      " |-- PULocationID: integer (nullable = true)\n",
      " |-- DOLocationID: integer (nullable = true)\n",
      " |-- payment_type: long (nullable = true)\n",
      " |-- fare_amount: double (nullable = true)\n",
      " |-- extra: double (nullable = true)\n",
      " |-- mta_tax: double (nullable = true)\n",
      " |-- tip_amount: double (nullable = true)\n",
      " |-- tolls_amount: double (nullable = true)\n",
      " |-- improvement_surcharge: double (nullable = true)\n",
      " |-- total_amount: double (nullable = true)\n",
      " |-- congestion_surcharge: double (nullable = true)\n",
      " |-- airport_fee: double (nullable = true)\n",
      "\n",
      "root\n",
      " |-- LocationID: integer (nullable = true)\n",
      " |-- Borough: string (nullable = true)\n",
      " |-- Zone: string (nullable = true)\n",
      " |-- service_zone: string (nullable = true)\n",
      "\n"
     ]
    }
   ],
   "source": [
    "# Print the schema to understand the structure of the dataset\n",
    "raw_data[0].printSchema()\n",
    "zone_df.printSchema()"
   ]
  },
  {
   "cell_type": "code",
   "execution_count": 6,
   "metadata": {},
   "outputs": [],
   "source": [
    "# union the raw data into one df\n",
    "df = raw_data[0]\n",
    "\n",
    "for i in range(1, len(raw_data)):\n",
    "    df = df.union(raw_data[i])"
   ]
  },
  {
   "cell_type": "code",
   "execution_count": 7,
   "metadata": {},
   "outputs": [
    {
     "name": "stdout",
     "output_type": "stream",
     "text": [
      "Total trips: 38310226\n"
     ]
    }
   ],
   "source": [
    "total_trips = df.count()\n",
    "print(f\"Total trips: {total_trips}\")"
   ]
  },
  {
   "cell_type": "markdown",
   "metadata": {},
   "source": [
    "# Analysis by Month"
   ]
  },
  {
   "cell_type": "code",
   "execution_count": 8,
   "metadata": {},
   "outputs": [],
   "source": [
    "# group by month\n",
    "from pyspark.sql.functions import month\n",
    "\n",
    "group_by_month = df.groupBy(month(col('tpep_pickup_datetime')).alias('Month'))"
   ]
  },
  {
   "cell_type": "code",
   "execution_count": 9,
   "metadata": {},
   "outputs": [
    {
     "name": "stdout",
     "output_type": "stream",
     "text": [
      "+-----+-------+\n",
      "|Month|  Trips|\n",
      "+-----+-------+\n",
      "|    1|3066759|\n",
      "|    2|2914003|\n",
      "|    3|3403660|\n",
      "|    4|3288248|\n",
      "|    5|3513664|\n",
      "|    6|3307259|\n",
      "|    7|2907093|\n",
      "|    8|2824201|\n",
      "|    9|2846741|\n",
      "|   10|3522280|\n",
      "|   11|3339732|\n",
      "|   12|3376586|\n",
      "+-----+-------+\n",
      "\n"
     ]
    }
   ],
   "source": [
    "# trips per month\n",
    "from pyspark.sql.functions import count\n",
    "\n",
    "trips_month = group_by_month.agg(count('*').alias('Trips')).orderBy(col('Month').asc())\n",
    "trips_month.show()"
   ]
  },
  {
   "cell_type": "code",
   "execution_count": 10,
   "metadata": {},
   "outputs": [
    {
     "name": "stdout",
     "output_type": "stream",
     "text": [
      "+-----+--------------------+\n",
      "|Month|       Total Revenue|\n",
      "+-----+--------------------+\n",
      "|    1| 8.286512795978236E7|\n",
      "|    2| 7.838160042983432E7|\n",
      "|    3| 9.463402765971829E7|\n",
      "|    4| 9.295684310977364E7|\n",
      "|    5|1.0176602127973004E8|\n",
      "|    6| 9.613736022974902E7|\n",
      "|    7| 8.305003029981662E7|\n",
      "|    8| 8.085130960007511E7|\n",
      "|    9| 8.478139693005617E7|\n",
      "|   10|1.0274983841009632E8|\n",
      "|   11| 9.583627967009455E7|\n",
      "|   12| 9.637357631009677E7|\n",
      "+-----+--------------------+\n",
      "\n"
     ]
    }
   ],
   "source": [
    "# total revenue per month\n",
    "from pyspark.sql.functions import sum as spark_sum\n",
    "\n",
    "revenue_month = group_by_month.agg(spark_sum(col('total_amount')).alias('Total Revenue'))\\\n",
    "    .orderBy(col('Month').asc())\n",
    "revenue_month.show()"
   ]
  },
  {
   "cell_type": "code",
   "execution_count": 14,
   "metadata": {},
   "outputs": [
    {
     "name": "stdout",
     "output_type": "stream",
     "text": [
      "+-----+-------------+----------+-------+\n",
      "|Month|Time Interval|Avg Income|Avg Tip|\n",
      "+-----+-------------+----------+-------+\n",
      "|1    |00:00 - 02:00|27.46     |3.41   |\n",
      "|1    |02:00 - 04:00|25.08     |3.03   |\n",
      "|1    |04:00 - 06:00|33.51     |3.69   |\n",
      "|1    |06:00 - 08:00|27.87     |3.3    |\n",
      "|1    |08:00 - 10:00|25.17     |3.14   |\n",
      "|1    |10:00 - 12:00|25.09     |3.09   |\n",
      "|1    |12:00 - 14:00|25.77     |3.16   |\n",
      "|1    |14:00 - 16:00|27.43     |3.37   |\n",
      "|1    |16:00 - 18:00|28.76     |3.58   |\n",
      "|1    |18:00 - 20:00|26.75     |3.41   |\n",
      "|1    |20:00 - 22:00|26.95     |3.5    |\n",
      "|1    |22:00 - 00:00|28.8      |3.66   |\n",
      "|2    |00:00 - 02:00|26.47     |3.31   |\n",
      "|2    |02:00 - 04:00|24.38     |2.94   |\n",
      "|2    |04:00 - 06:00|35.09     |3.97   |\n",
      "|2    |06:00 - 08:00|28.06     |3.36   |\n",
      "|2    |08:00 - 10:00|25.2      |3.16   |\n",
      "|2    |10:00 - 12:00|25.08     |3.11   |\n",
      "|2    |12:00 - 14:00|26.21     |3.24   |\n",
      "|2    |14:00 - 16:00|27.41     |3.4    |\n",
      "|2    |16:00 - 18:00|28.4      |3.57   |\n",
      "|2    |18:00 - 20:00|26.65     |3.43   |\n",
      "|2    |20:00 - 22:00|26.74     |3.51   |\n",
      "|2    |22:00 - 00:00|28.11     |3.63   |\n",
      "|3    |00:00 - 02:00|27.67     |3.44   |\n",
      "|3    |02:00 - 04:00|25.32     |3.04   |\n",
      "|3    |04:00 - 06:00|35.0      |4.03   |\n",
      "|3    |06:00 - 08:00|28.64     |3.46   |\n",
      "|3    |08:00 - 10:00|25.87     |3.25   |\n",
      "|3    |10:00 - 12:00|26.21     |3.25   |\n",
      "|3    |12:00 - 14:00|27.11     |3.36   |\n",
      "|3    |14:00 - 16:00|28.65     |3.56   |\n",
      "|3    |16:00 - 18:00|29.71     |3.71   |\n",
      "|3    |18:00 - 20:00|27.43     |3.51   |\n",
      "|3    |20:00 - 22:00|27.14     |3.55   |\n",
      "|3    |22:00 - 00:00|28.89     |3.73   |\n",
      "|4    |00:00 - 02:00|27.68     |3.42   |\n",
      "|4    |02:00 - 04:00|25.09     |3.01   |\n",
      "|4    |04:00 - 06:00|35.87     |4.0    |\n",
      "|4    |06:00 - 08:00|29.48     |3.51   |\n",
      "|4    |08:00 - 10:00|26.28     |3.25   |\n",
      "|4    |10:00 - 12:00|26.5      |3.25   |\n",
      "|4    |12:00 - 14:00|27.77     |3.41   |\n",
      "|4    |14:00 - 16:00|29.33     |3.61   |\n",
      "|4    |16:00 - 18:00|30.3      |3.75   |\n",
      "|4    |18:00 - 20:00|27.87     |3.5    |\n",
      "|4    |20:00 - 22:00|27.42     |3.53   |\n",
      "|4    |22:00 - 00:00|29.43     |3.76   |\n",
      "|5    |00:00 - 02:00|27.98     |3.44   |\n",
      "|5    |02:00 - 04:00|25.25     |3.01   |\n",
      "|5    |04:00 - 06:00|36.2      |4.13   |\n",
      "|5    |06:00 - 08:00|28.87     |3.48   |\n",
      "|5    |08:00 - 10:00|27.03     |3.38   |\n",
      "|5    |10:00 - 12:00|27.83     |3.42   |\n",
      "|5    |12:00 - 14:00|29.15     |3.58   |\n",
      "|5    |14:00 - 16:00|30.39     |3.75   |\n",
      "|5    |16:00 - 18:00|31.3      |3.89   |\n",
      "|5    |18:00 - 20:00|28.15     |3.57   |\n",
      "|5    |20:00 - 22:00|27.81     |3.59   |\n",
      "|5    |22:00 - 00:00|29.47     |3.76   |\n",
      "|6    |00:00 - 02:00|28.9      |3.53   |\n",
      "|6    |02:00 - 04:00|26.39     |3.13   |\n",
      "|6    |04:00 - 06:00|36.54     |4.1    |\n",
      "|6    |06:00 - 08:00|29.16     |3.47   |\n",
      "|6    |08:00 - 10:00|27.0      |3.36   |\n",
      "|6    |10:00 - 12:00|27.44     |3.37   |\n",
      "|6    |12:00 - 14:00|29.66     |3.53   |\n",
      "|6    |14:00 - 16:00|29.85     |3.68   |\n",
      "|6    |16:00 - 18:00|31.11     |3.84   |\n",
      "|6    |18:00 - 20:00|28.12     |3.54   |\n",
      "|6    |20:00 - 22:00|28.27     |3.63   |\n",
      "|6    |22:00 - 00:00|30.05     |3.81   |\n",
      "|7    |00:00 - 02:00|29.41     |3.5    |\n",
      "|7    |02:00 - 04:00|26.78     |3.06   |\n",
      "|7    |04:00 - 06:00|36.31     |3.89   |\n",
      "|7    |06:00 - 08:00|29.41     |3.41   |\n",
      "|7    |08:00 - 10:00|26.98     |3.27   |\n",
      "|7    |10:00 - 12:00|26.99     |3.22   |\n",
      "|7    |12:00 - 14:00|27.49     |3.29   |\n",
      "|7    |14:00 - 16:00|28.82     |3.45   |\n",
      "|7    |16:00 - 18:00|30.25     |3.63   |\n",
      "|7    |18:00 - 20:00|27.95     |3.43   |\n",
      "|7    |20:00 - 22:00|28.23     |3.54   |\n",
      "|7    |22:00 - 00:00|30.1      |3.71   |\n",
      "|8    |00:00 - 02:00|28.05     |3.27   |\n",
      "|8    |02:00 - 04:00|25.63     |2.88   |\n",
      "|8    |04:00 - 06:00|35.55     |3.79   |\n",
      "|8    |06:00 - 08:00|29.18     |3.31   |\n",
      "|8    |08:00 - 10:00|26.61     |3.2    |\n",
      "|8    |10:00 - 12:00|27.1      |3.19   |\n",
      "|8    |12:00 - 14:00|28.02     |3.31   |\n",
      "|8    |14:00 - 16:00|29.18     |3.45   |\n",
      "|8    |16:00 - 18:00|30.64     |3.63   |\n",
      "|8    |18:00 - 20:00|28.23     |3.43   |\n",
      "|8    |20:00 - 22:00|28.41     |3.53   |\n",
      "|8    |22:00 - 00:00|29.92     |3.63   |\n",
      "|9    |00:00 - 02:00|28.67     |3.39   |\n",
      "|9    |02:00 - 04:00|25.63     |2.93   |\n",
      "|9    |04:00 - 06:00|35.56     |3.85   |\n",
      "|9    |06:00 - 08:00|29.03     |3.41   |\n",
      "|9    |08:00 - 10:00|27.77     |3.42   |\n",
      "|9    |10:00 - 12:00|29.11     |3.51   |\n",
      "|9    |12:00 - 14:00|29.58     |3.61   |\n",
      "|9    |14:00 - 16:00|31.63     |3.78   |\n",
      "|9    |16:00 - 18:00|32.04     |3.91   |\n",
      "|9    |18:00 - 20:00|29.13     |3.6    |\n",
      "|9    |20:00 - 22:00|28.97     |3.66   |\n",
      "|9    |22:00 - 00:00|30.15     |3.71   |\n",
      "|10   |00:00 - 02:00|27.09     |3.26   |\n",
      "|10   |02:00 - 04:00|24.77     |2.89   |\n",
      "|10   |04:00 - 06:00|36.0      |4.11   |\n",
      "|10   |06:00 - 08:00|29.21     |3.47   |\n",
      "|10   |08:00 - 10:00|27.21     |3.38   |\n",
      "|10   |10:00 - 12:00|27.75     |3.45   |\n",
      "|10   |12:00 - 14:00|28.84     |3.59   |\n",
      "|10   |14:00 - 16:00|30.73     |3.82   |\n",
      "|10   |16:00 - 18:00|31.32     |3.91   |\n",
      "|10   |18:00 - 20:00|28.98     |3.64   |\n",
      "|10   |20:00 - 22:00|28.72     |3.7    |\n",
      "|10   |22:00 - 00:00|29.78     |3.75   |\n",
      "|11   |00:00 - 02:00|26.16     |3.21   |\n",
      "|11   |02:00 - 04:00|24.09     |2.83   |\n",
      "|11   |04:00 - 06:00|35.48     |3.99   |\n",
      "|11   |06:00 - 08:00|28.92     |3.5    |\n",
      "|11   |08:00 - 10:00|27.23     |3.41   |\n",
      "|11   |10:00 - 12:00|27.65     |3.48   |\n",
      "|11   |12:00 - 14:00|28.65     |3.59   |\n",
      "|11   |14:00 - 16:00|30.27     |3.81   |\n",
      "|11   |16:00 - 18:00|30.65     |3.86   |\n",
      "|11   |18:00 - 20:00|28.46     |3.62   |\n",
      "|11   |20:00 - 22:00|27.95     |3.68   |\n",
      "|11   |22:00 - 00:00|28.64     |3.65   |\n",
      "|12   |00:00 - 02:00|26.65     |3.19   |\n",
      "|12   |02:00 - 04:00|24.41     |2.85   |\n",
      "|12   |04:00 - 06:00|34.91     |3.83   |\n",
      "|12   |06:00 - 08:00|29.67     |3.49   |\n",
      "|12   |08:00 - 10:00|27.15     |3.34   |\n",
      "|12   |10:00 - 12:00|27.23     |3.39   |\n",
      "|12   |12:00 - 14:00|27.94     |3.44   |\n",
      "|12   |14:00 - 16:00|29.89     |3.67   |\n",
      "|12   |16:00 - 18:00|30.86     |3.79   |\n",
      "|12   |18:00 - 20:00|28.59     |3.54   |\n",
      "|12   |20:00 - 22:00|27.68     |3.54   |\n",
      "|12   |22:00 - 00:00|28.5      |3.55   |\n",
      "+-----+-------------+----------+-------+\n",
      "\n"
     ]
    }
   ],
   "source": [
    "# average income in 2 hours interval each month\n",
    "from pyspark.sql.functions import hour, when, avg as spark_avg, round as spark_round\n",
    "\n",
    "time_interval = df.withColumn('hour', hour(col('tpep_pickup_datetime')))\n",
    "\n",
    "time_interval = time_interval.withColumn('Time Interval',\n",
    "                    when((col(\"hour\") >= 0) & (col(\"hour\") < 2), \"00:00 - 02:00\")\n",
    "                   .when((col(\"hour\") >= 2) & (col(\"hour\") < 4), \"02:00 - 04:00\")\n",
    "                   .when((col(\"hour\") >= 4) & (col(\"hour\") < 6), \"04:00 - 06:00\")\n",
    "                   .when((col(\"hour\") >= 6) & (col(\"hour\") < 8), \"06:00 - 08:00\")\n",
    "                   .when((col(\"hour\") >= 8) & (col(\"hour\") < 10), \"08:00 - 10:00\")\n",
    "                   .when((col(\"hour\") >= 10) & (col(\"hour\") < 12), \"10:00 - 12:00\")\n",
    "                   .when((col(\"hour\") >= 12) & (col(\"hour\") < 14), \"12:00 - 14:00\")\n",
    "                   .when((col(\"hour\") >= 14) & (col(\"hour\") < 16), \"14:00 - 16:00\")\n",
    "                   .when((col(\"hour\") >= 16) & (col(\"hour\") < 18), \"16:00 - 18:00\")\n",
    "                   .when((col(\"hour\") >= 18) & (col(\"hour\") < 20), \"18:00 - 20:00\")\n",
    "                   .when((col(\"hour\") >= 20) & (col(\"hour\") < 22), \"20:00 - 22:00\")\n",
    "                   .when((col(\"hour\") >= 22) & (col(\"hour\") < 24), \"22:00 - 00:00\"))\n",
    "\n",
    "income_time_interval = time_interval.groupBy(month(col('tpep_pickup_datetime')).alias('Month'),'Time Interval')\\\n",
    "                        .agg(spark_round(spark_avg(col('total_amount')), 2).alias('Avg Income'),\\\n",
    "                        spark_round(spark_avg(col('tip_amount')), 2).alias('Avg Tip'))\\\n",
    "                        .orderBy('Month', 'Time Interval')\n",
    "\n",
    "income_time_interval.show(n=income_time_interval.count(),truncate=False)"
   ]
  },
  {
   "cell_type": "markdown",
   "metadata": {},
   "source": [
    "# Borough trips"
   ]
  },
  {
   "cell_type": "code",
   "execution_count": 37,
   "metadata": {},
   "outputs": [
    {
     "name": "stdout",
     "output_type": "stream",
     "text": [
      "+-------------+-------------+-------+--------------+----------------+\n",
      "|PU Borough   |DO Borough   |Trips  |Total Revenue |Avg Trip Revenue|\n",
      "+-------------+-------------+-------+--------------+----------------+\n",
      "|Queens       |Manhattan    |2125164|1.7057280433E8|80.26           |\n",
      "|Manhattan    |Queens       |1184488|7.814936782E7 |65.98           |\n",
      "|Queens       |Brooklyn     |552317 |3.773648694E7 |68.32           |\n",
      "|Manhattan    |Brooklyn     |800033 |3.44390308E7  |43.05           |\n",
      "|Manhattan    |EWR          |105643 |1.299695386E7 |123.03          |\n",
      "|Queens       |N/A          |101888 |1.296407725E7 |127.24          |\n",
      "|Queens       |Bronx        |79539  |5993290.4     |75.35           |\n",
      "|Manhattan    |Bronx        |112602 |5074039.86    |45.06           |\n",
      "|Manhattan    |N/A          |42767  |4483475.32    |104.83          |\n",
      "|Brooklyn     |Manhattan    |104248 |4130135.78    |39.62           |\n",
      "|Manhattan    |Unknown      |87450  |2315583.62    |26.48           |\n",
      "|Unknown      |Manhattan    |56625  |1935741.95    |34.19           |\n",
      "|Brooklyn     |Queens       |32400  |1547397.81    |47.76           |\n",
      "|Queens       |EWR          |5664   |1063331.81    |187.74          |\n",
      "|Bronx        |Manhattan    |22219  |822162.45     |37.0            |\n",
      "|Queens       |Unknown      |11270  |762907.93     |67.69           |\n",
      "|Queens       |Staten Island|5150   |588390.12     |114.25          |\n",
      "|Manhattan    |Staten Island|4294   |430286.24     |100.21          |\n",
      "|Unknown      |Queens       |7605   |373155.46     |49.07           |\n",
      "|Bronx        |Brooklyn     |4962   |311983.46     |62.87           |\n",
      "|Brooklyn     |Bronx        |4862   |309443.85     |63.65           |\n",
      "|Bronx        |Queens       |5248   |277938.94     |52.96           |\n",
      "|Unknown      |Brooklyn     |4625   |262983.31     |56.86           |\n",
      "|N/A          |Manhattan    |4145   |212945.94     |51.37           |\n",
      "|N/A          |Queens       |3730   |194541.34     |52.16           |\n",
      "|Brooklyn     |EWR          |866    |103800.44     |119.86          |\n",
      "|Brooklyn     |N/A          |888    |102039.66     |114.91          |\n",
      "|N/A          |Brooklyn     |1965   |95097.55      |48.4            |\n",
      "|N/A          |Unknown      |657    |79433.97      |120.9           |\n",
      "|Unknown      |N/A          |612    |71011.68      |116.03          |\n",
      "|N/A          |EWR          |550    |57309.93      |104.2           |\n",
      "|Unknown      |EWR          |438    |54875.62      |125.29          |\n",
      "|Bronx        |N/A          |522    |45954.73      |88.04           |\n",
      "|Unknown      |Bronx        |785    |45005.99      |57.33           |\n",
      "|Staten Island|Manhattan    |511    |44748.67      |87.57           |\n",
      "|Brooklyn     |Staten Island|717    |39390.66      |54.94           |\n",
      "|N/A          |Bronx        |857    |38126.7       |44.49           |\n",
      "|Brooklyn     |Unknown      |867    |36410.28      |42.0            |\n",
      "|Staten Island|Queens       |426    |34108.69      |80.07           |\n",
      "|EWR          |Unknown      |252    |29414.25      |116.72          |\n",
      "|Staten Island|Brooklyn     |429    |26109.04      |60.86           |\n",
      "|Staten Island|Bronx        |221    |18353.79      |83.05           |\n",
      "|Bronx        |Staten Island|205    |16925.61      |82.56           |\n",
      "|EWR          |Manhattan    |118    |13526.31      |114.63          |\n",
      "|EWR          |N/A          |192    |13250.19      |69.01           |\n",
      "|Bronx        |Unknown      |222    |9374.11       |42.23           |\n",
      "|Staten Island|N/A          |41     |7146.86       |174.31          |\n",
      "|N/A          |Staten Island|103    |6262.79       |60.8            |\n",
      "|EWR          |Queens       |28     |4530.39       |161.8           |\n",
      "|Bronx        |EWR          |32     |4185.57       |130.8           |\n",
      "|Unknown      |Staten Island|35     |3506.76       |100.19          |\n",
      "|Staten Island|EWR          |19     |2459.68       |129.46          |\n",
      "|EWR          |Brooklyn     |18     |2422.83       |134.6           |\n",
      "|Staten Island|Unknown      |15     |1670.17       |111.34          |\n",
      "|EWR          |Staten Island|13     |1423.29       |109.48          |\n",
      "|EWR          |Bronx        |2      |335.65        |167.83          |\n",
      "+-------------+-------------+-------+--------------+----------------+\n",
      "\n"
     ]
    }
   ],
   "source": [
    "# Join the two table\n",
    "# name alias for the dataset first to avoid confusion and ambiguity of rejoin with the same dataset\n",
    "trips_df = df.alias('trips')\n",
    "locations_df_alias_pu = zone_df.alias(\"pu_locations\")\n",
    "locations_df_alias_do = zone_df.alias(\"do_locations\")\n",
    "\n",
    "trips_with_pu_borough = trips_df.join(locations_df_alias_pu,\\\n",
    "                    trips_df.PULocationID == locations_df_alias_pu.LocationID, how='left')\\\n",
    "                    .select(trips_df['*'],col(\"pu_locations.Borough\").alias('PU Borough')\n",
    ")\n",
    "\n",
    "trips_with_boroughs = trips_with_pu_borough.join(locations_df_alias_do,\\\n",
    "                    trips_with_pu_borough.DOLocationID == locations_df_alias_do.LocationID, how='left')\\\n",
    "                    .select(trips_with_pu_borough['*'], col(\"do_locations.Borough\").alias('DO Borough')\n",
    ")\n",
    "\n",
    "# get only the trips that has different PU and DO location\n",
    "corss_borough_trips = trips_with_boroughs.filter(col('PU Borough') != col('DO Borough'))\n",
    "\n",
    "# count the number of trips and total income for every pair of borough\n",
    "cross_borough_group = corss_borough_trips.groupBy('PU Borough', 'DO Borough')\n",
    "result_df = cross_borough_group.agg(count('*').alias('Trips'), \\\n",
    "                                    spark_round(spark_sum(col('total_amount')),2).alias('Total Revenue'),\\\n",
    "                                    spark_round(spark_avg(col('total_amount')),2).alias('Avg Trip Revenue'))\n",
    "\n",
    "# order rows\n",
    "result_df = result_df.orderBy('PU Borough', 'DO Borough').orderBy(col('Total Revenue').desc())\n",
    "\n",
    "result_df.show(n=income_time_interval.count(),truncate=False)"
   ]
  },
  {
   "cell_type": "code",
   "execution_count": 10,
   "metadata": {},
   "outputs": [],
   "source": [
    "# # Save the results to a CSV file\n",
    "# results_path = \"CSVs\"\n",
    "# df.repartition(1).write.option(\"header\", \"true\").csv(results_path)"
   ]
  },
  {
   "cell_type": "code",
   "execution_count": 38,
   "metadata": {},
   "outputs": [],
   "source": [
    "# Stop the Spark session\n",
    "spark.stop()"
   ]
  }
 ],
 "metadata": {
  "kernelspec": {
   "display_name": "Python 3",
   "language": "python",
   "name": "python3"
  },
  "language_info": {
   "codemirror_mode": {
    "name": "ipython",
    "version": 3
   },
   "file_extension": ".py",
   "mimetype": "text/x-python",
   "name": "python",
   "nbconvert_exporter": "python",
   "pygments_lexer": "ipython3",
   "version": "3.12.3"
  }
 },
 "nbformat": 4,
 "nbformat_minor": 2
}
